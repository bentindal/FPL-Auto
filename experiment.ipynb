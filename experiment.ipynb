{
 "cells": [
  {
   "cell_type": "code",
   "execution_count": null,
   "metadata": {},
   "outputs": [],
   "source": [
    "from fpl_auto import data\n",
    "import pandas as pd\n",
    "import numpy as np\n",
    "import matplotlib.pyplot as plt\n",
    "\n",
    "# Load data\n",
    "d = data.fpl_data('data', '2022-23')\n"
   ]
  },
  {
   "cell_type": "code",
   "execution_count": null,
   "metadata": {},
   "outputs": [],
   "source": [
    "# What points did each team score?\n",
    "season = '2023-24'\n",
    "# Initalise a dictionary to store the points for each team\n",
    "points = {}\n",
    "\n",
    "for i in range(0,33):\n",
    "    week_data = d.get_gw_data(season, i + 1)\n",
    "    # drop everything but points and team\n",
    "    week_data = week_data[['team', 'total_points']]\n",
    "    # iterate through the pd dataframe and add the points to the dictionary per team\n",
    "    for index, row in week_data.iterrows():\n",
    "        team = row['team']\n",
    "        points[team] = points.get(team, 0) + row['total_points']\n",
    "    \n",
    "# Order the dictionary by points\n",
    "points = dict(sorted(points.items(), key=lambda item: item[1], reverse=True))\n",
    "\n",
    "# Plot the points\n",
    "fig, ax = plt.subplots()\n",
    "ax.bar(points.keys(), points.values())\n",
    "ax.set_ylabel('Points')\n",
    "ax.set_xlabel('Team')\n",
    "ax.set_title(f'Points per team in the {season} season')\n",
    "plt.xticks(rotation=90)\n"
   ]
  },
  {
   "cell_type": "code",
   "execution_count": null,
   "metadata": {},
   "outputs": [],
   "source": [
    "# What is the average points per player?\n",
    "seasons = ['2020-21', '2021-22', '2022-23']\n",
    "# Initialize a dictionary to store the average points for each position\n",
    "season_avg_points = {}\n",
    "for season in seasons:\n",
    "    points = {}\n",
    "    players = {}\n",
    "    for i in range(0, 38):\n",
    "        week_data = d.get_gw_data(season, i + 1)\n",
    "        # Drop everything but points and position\n",
    "        week_data = week_data[['position', 'total_points', 'minutes']]\n",
    "        # Exclude players who played less than 60 minutes\n",
    "        week_data = week_data[week_data['minutes'] > 0]\n",
    "        # Iterate through the pd dataframe and add the points and count the players per position\n",
    "        for index, row in week_data.iterrows():\n",
    "            position = row['position']\n",
    "            if position == 'GKP':\n",
    "                position = 'GK'\n",
    "            points[position] = points.get(position, 0) + row['total_points']\n",
    "            players[position] = players.get(position, 0) + 1\n",
    "    # Calculate the average points per player for each position\n",
    "    avg_points = {pos: points[pos] / players[pos] for pos in points}\n",
    "    season_avg_points[season] = avg_points\n"
   ]
  },
  {
   "cell_type": "code",
   "execution_count": null,
   "metadata": {},
   "outputs": [],
   "source": [
    "fig, ax = plt.subplots()\n",
    "width = 0.25\n",
    "positions = ['FWD', 'MID', 'DEF', 'GK']  # Order the positions\n",
    "x = np.arange(len(positions))\n",
    "for i, season in enumerate(season_avg_points.keys()):\n",
    "    # Get the values for the ordered positions\n",
    "    values = [season_avg_points[season][pos] for pos in positions]\n",
    "    ax.bar(x + i * width, values, width, label=season)\n",
    "ax.set_ylabel('Points')\n",
    "ax.set_xlabel('Position')\n",
    "ax.set_title('Points per position in the 2020-21, 2021-22 and 2022-23 seasons')\n",
    "ax.set_xticks(x + width)\n",
    "ax.set_xticklabels(positions)\n",
    "ax.legend()\n",
    "ax.set_ylim(bottom=0.8)  # Set the minimum y-axis value to 0.8\n",
    "plt.show()"
   ]
  },
  {
   "cell_type": "code",
   "execution_count": null,
   "metadata": {},
   "outputs": [],
   "source": [
    "# What points did each player score?\n",
    "seasons = ['2020-21', '2021-22', '2022-23', '2023-24']\n",
    "\n",
    "def plot_p_vs_v(season):\n",
    "    # Initialize variables to store the sum of points and values\n",
    "    total_points = {}\n",
    "    total_value = {}\n",
    "    player_positions = {}\n",
    "    upper_bound = 38\n",
    "    if season == '2023-24':\n",
    "        upper_bound = 24\n",
    "    for i in range(0, upper_bound):\n",
    "        week_data = d.get_gw_data(season, i+1)\n",
    "        # Drop everything but points, cost, and position\n",
    "        week_data = week_data[['total_points', 'value', 'position']]\n",
    "\n",
    "        # combine index in the dataframe\n",
    "        week_data = week_data.reset_index()\n",
    "        # Iterate through the pd dataframe and add the points, cost, and position to the dictionaries per player\n",
    "        for index, row in week_data.iterrows():\n",
    "            player = row['name']\n",
    "            points = row['total_points']\n",
    "            cost = row['value']\n",
    "            position = row['position']\n",
    "            # Sum the points and values separately\n",
    "            # if points = 0 or cost = 0, skip\n",
    "            total_points[player] = total_points.get(player, 0) + points\n",
    "            total_value[player] = total_value.get(player, 0) + cost\n",
    "            player_positions[player] = position\n",
    "        \n",
    "    # Calculate the average cost and average points for each player\n",
    "    average_cost = {player: total_value[player] / 38 for player in total_value}\n",
    "    average_points = {player: total_points[player] / 38 for player in total_points}\n",
    "\n",
    "    # Plot the average cost vs average points with player positions as colors\n",
    "    fig, ax = plt.subplots(figsize=(10, 8))  # Increase the height to 8\n",
    "    positions = set(player_positions.values())\n",
    "    colors = ['red', 'blue', 'green', 'orange', 'purple']  # Removed yellow color\n",
    "    for position in positions:\n",
    "        x = [average_cost[player] for player in average_cost if player_positions[player] == position]\n",
    "        y = [average_points[player] for player in average_points if player_positions[player] == position]\n",
    "        ax.scatter(x, y, label=position, color=colors.pop(0))\n",
    "        # Annotate top 10 points with player names\n",
    "        top_10_players = sorted(total_points, key=total_points.get, reverse=True)[:5]\n",
    "        for player in top_10_players:\n",
    "            if player_positions[player] == position:\n",
    "                ax.annotate(player, (average_cost[player], average_points[player]), xytext=(5, 5), textcoords='offset points')\n",
    "    ax.set_ylabel('Average Points')\n",
    "    ax.set_xlabel('Average Cost')\n",
    "    ax.set_title(f'Average Cost vs Average Points for players in the {season} season')\n",
    "    ax.legend(loc='lower right')\n",
    "    ax.set_xlim(left=0, right=165)  # Set the minimum x-axis value to 0\n",
    "    plt.show()\n",
    "\n",
    "for season in seasons:\n",
    "    plot_p_vs_v(season)"
   ]
  },
  {
   "cell_type": "code",
   "execution_count": null,
   "metadata": {},
   "outputs": [],
   "source": [
    "from fpl_auto import data \n",
    "import pandas as pd\n",
    "import numpy as np\n",
    "import json\n",
    "\n",
    "# Load data\n",
    "d = data.fpl_data('data', '2023-24')\n",
    "fpl_api = d.api_to_json()\n",
    "# find all players that have a chance_of_playing that is not 100\n",
    "players = fpl_api['elements']\n",
    "players = [player for player in players if player['chance_of_playing_next_round'] != 100 and player['chance_of_playing_next_round'] != None]\n",
    "# create a dataframe from the players\n",
    "df = pd.DataFrame(players)\n",
    "# merge the first_name and second_name columns\n",
    "df['name'] = df['first_name'] + ' ' + df['second_name']\n",
    "df = df[['name', 'chance_of_playing_next_round', 'chance_of_playing_this_round', 'news']]\n",
    "# print the dataframe\n",
    "print(df)\n",
    "\n",
    "# save the dataframe to a tsv file\n",
    "df.to_csv(f'injury_list_gw{d.get_recent_gw()}.tsv', sep='\\t', index=False)\n"
   ]
  },
  {
   "cell_type": "code",
   "execution_count": null,
   "metadata": {},
   "outputs": [],
   "source": [
    "from fpl_auto import team\n",
    "\n",
    "t = team.team('2023-24', 1)\n",
    "t.initial_team_generator()\n",
    "print(f'xP {t.team_xp(include_subs=True)} including subs')\n",
    "print(f'P {t.team_p()}')"
   ]
  },
  {
   "cell_type": "code",
   "execution_count": null,
   "metadata": {},
   "outputs": [],
   "source": [
    "from fpl_auto import data\n",
    "\n",
    "d = data.fpl_data('data', '2023-24')\n",
    "\n",
    "training_data = d.get_training_data('2023-24', 1)"
   ]
  },
  {
   "cell_type": "code",
   "execution_count": 2,
   "metadata": {},
   "outputs": [
    {
     "data": {
      "image/png": "[encoded data removed]",
      "text/plain": [
       "<Figure size 1000x700 with 1 Axes>"
      ]
     },
     "metadata": {},
     "output_type": "display_data"
    }
   ],
   "source": [
    "from fpl_auto import evaluate as eval\n",
    "\n",
    "\n",
    "s1 = [62, 34, 38, 37, 43, 37, 67, 38, 48, 99, 54, 34, 44, 44, 63, 35, 82, 47, 33, 21, 62, 39, 110, 31, 38, 72, 41, 36, 43, 47, 52, 52, 57, 26, 43, 21, 97, 47]\n",
    "s2 = [39, 63, 54, 55, 31, 44, 0, 33, 69, 77, 45, 19, 45, 36, 41, 34, 33, 16, 53, 62, 55, 38, 46, 42, 62, 65, 54, 29, 29, 32, 47, 41, 54, 59, 57, 58, 52, 43]\n",
    "s3 = [49, 39, 91, 16, 56, 44, 64, 43, 38, 79, 34, 33, 38, 43, 59, 34, 47, 52, 49, 34, 65, 68, 70, 53, 21, 78, 22, 25, 21, 17, 52, 65, 47]\n",
    "seasons = ['2023-24', '2022-23', '2021-22']\n",
    "points = [s1, s2, s3]\n",
    "\n",
    "\n",
    "eval.box_plot_by_season(points, seasons)"
   ]
  }
 ],
 "metadata": {
  "kernelspec": {
   "display_name": "base",
   "language": "python",
   "name": "python3"
  },
  "language_info": {
   "codemirror_mode": {
    "name": "ipython",
    "version": 3
   },
   "file_extension": ".py",
   "mimetype": "text/x-python",
   "name": "python",
   "nbconvert_exporter": "python",
   "pygments_lexer": "ipython3",
   "version": "3.11.4"
  }
 },
 "nbformat": 4,
 "nbformat_minor": 2
}
